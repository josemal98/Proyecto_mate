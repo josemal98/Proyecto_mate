{
 "cells": [
  {
   "cell_type": "markdown",
   "metadata": {},
   "source": [
    "# Proyecto final 2023"
   ]
  },
  {
   "cell_type": "markdown",
   "metadata": {},
   "source": [
    "# Matemáticas para Ciencia de Datos"
   ]
  },
  {
   "cell_type": "markdown",
   "metadata": {},
   "source": [
    "#### Ejercicio 1. Haz un programa que dada una matriz $A$ y $k$ regrese $A^{(k)}$, $σ_1$, . . . $σ_{k+1}$. Usa la librería https://scikit-learn.org/stable/modules/generated/sklearn.decomposition.TruncatedSVD.html."
   ]
  },
  {
   "cell_type": "code",
   "execution_count": null,
   "metadata": {},
   "outputs": [],
   "source": []
  },
  {
   "cell_type": "markdown",
   "metadata": {},
   "source": [
    "#### Ejercicio 2. Crea una matriz de la \"imagen en blanco\". ¿Cuál es el rank de esa matriz? Responde la misma pregunta con la matriz corespondiente a una imagen nítida de la bandera de Indonesia y también de la bandera Italiana."
   ]
  },
  {
   "cell_type": "code",
   "execution_count": null,
   "metadata": {},
   "outputs": [],
   "source": []
  },
  {
   "cell_type": "markdown",
   "metadata": {},
   "source": [
    "#### Ejercicio 3. Elija una fotografía de tu interés. Encuentra la mejor aproximación de rango $k$ para $k$ = 2, 5, 10, 15. Conviértelos a imagen otra vez y obsérvalas junto con la imagen original. Puedes probar con otras imágenes y valores de $k$."
   ]
  },
  {
   "cell_type": "code",
   "execution_count": null,
   "metadata": {},
   "outputs": [],
   "source": []
  }
 ],
 "metadata": {
  "language_info": {
   "name": "python"
  }
 },
 "nbformat": 4,
 "nbformat_minor": 2
}
