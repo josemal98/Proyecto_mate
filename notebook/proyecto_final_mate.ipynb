{
  "cells": [
    {
      "cell_type": "markdown",
      "metadata": {
        "id": "w8nFJC64pkJe"
      },
      "source": [
        "# Proyecto final 2023"
      ]
    },
    {
      "cell_type": "markdown",
      "metadata": {
        "id": "Ni0mAXuApkJg"
      },
      "source": [
        "# Matemáticas para Ciencia de Datos"
      ]
    },
    {
      "cell_type": "markdown",
      "metadata": {
        "id": "cVrftXyGpkJh"
      },
      "source": [
        "#### Ejercicio 1. Haz un programa que dada una matriz $A$ y $k$ regrese $A^{(k)}$, $σ_1$, . . . $σ_{k+1}$. Usa la librería https://scikit-learn.org/stable/modules/generated/sklearn.decomposition.TruncatedSVD.html."
      ]
    },
    {
      "cell_type": "code",
      "execution_count": 49,
      "metadata": {
        "id": "7wiJL7CQpkJh"
      },
      "outputs": [],
      "source": [
        "# Importar librerías a utilizar\n",
        "import numpy as np\n",
        "from sklearn.decomposition import TruncatedSVD"
      ]
    },
    {
      "cell_type": "markdown",
      "metadata": {
        "id": "RtKeQDxypkJi"
      },
      "source": [
        "Crear función para obtener descomposición SVD truncada de una matriz, junto con los valores singulares respectivos."
      ]
    },
    {
      "cell_type": "code",
      "execution_count": 2,
      "metadata": {
        "id": "clSq0OshpkJi"
      },
      "outputs": [],
      "source": [
        "# Definir función \"truncated_svd_and_singular_values()\"\n",
        "def truncated_svd_and_singular_values(matrix, k):\n",
        "    \"\"\"Esta función recibe como input una matriz y un número entero k.\n",
        "       Como output regresa la descomposición SVD truncada en k de la\n",
        "       matriz y los primeros k+1 valores singulares\"\"\"\n",
        "\n",
        "    try:\n",
        "        # Descomposición SVD truncada\n",
        "        svd = TruncatedSVD(n_components=k+1)\n",
        "        svd.fit(matrix)\n",
        "\n",
        "        # Obtener la matriz transformada A^(k)\n",
        "        matrix_k = svd.transform(matrix)\n",
        "\n",
        "        # Obtener los valores singulares σ_1, ..., σ_{k+1}\n",
        "        singular_values = svd.singular_values_\n",
        "\n",
        "        # Output matriz transformada y valores singulares\n",
        "        return matrix_k, singular_values\n",
        "\n",
        "    except ValueError:\n",
        "        raise ValueError(\"El valor de k debe ser menor o igual al número de características en la matriz.\")"
      ]
    },
    {
      "cell_type": "markdown",
      "metadata": {
        "id": "YdKJZMX7pkJi"
      },
      "source": [
        "Ejemplo de uso de la función."
      ]
    },
    {
      "cell_type": "code",
      "execution_count": 3,
      "metadata": {
        "colab": {
          "base_uri": "https://localhost:8080/"
        },
        "id": "xvx1v5qlpkJj",
        "outputId": "c43045da-0666-4af0-9904-d667acccc116"
      },
      "outputs": [
        {
          "output_type": "stream",
          "name": "stdout",
          "text": [
            "Matriz A^(k):\n",
            "\n",
            "[[2284.19534152   45.83286464    3.16227304 ...  -63.36228363\n",
            "   155.81138342    4.83104453]\n",
            " [2188.40627148 -123.23605702  -73.48816302 ... -114.40943452\n",
            "    73.33810338   15.61211319]\n",
            " [2126.99655316  221.79043661 -117.1074129  ...  -34.40544093\n",
            "  -125.70671595   73.67554861]\n",
            " ...\n",
            " [2146.4074424  -186.39113502  -87.87970045 ...  -39.25388594\n",
            "    92.80912301   78.18504745]\n",
            " [2296.51096315  -25.8173158   210.40655449 ...  117.65902076\n",
            "   -40.83724881   30.15983336]\n",
            " [2253.87849806   86.43487434 -102.22977628 ... -166.55512877\n",
            "    -5.89946061  -83.76922125]]\n",
            "\n",
            "Valores singulares σ_1, ..., σ_{k+1}:\n",
            "\n",
            "[31335.66827607  2261.50369929  2239.61510206  2212.34202856\n",
            "  2179.07169581  2154.81611592  2132.52300947  2116.31009383\n",
            "  2104.35811943  2070.72379896  2059.22754784  2051.32721851\n",
            "  2023.56480654  2022.32023724  1999.15869738  1989.88497307\n",
            "  1980.6464516   1962.66387701  1954.20495758  1935.55083229\n",
            "  1916.03984051  1904.93854697  1892.40818986  1886.84701806\n",
            "  1864.95519556  1851.31680782  1837.59630386  1824.64711913\n",
            "  1822.71025432  1811.4827835   1791.81277661  1780.21304332\n",
            "  1770.73239066  1767.3439078   1761.38984     1751.63055864\n",
            "  1743.46361655  1724.99963074  1711.16778571  1703.33290027\n",
            "  1684.31157529  1674.68532005  1666.10849098  1660.32683189\n",
            "  1650.22030669  1637.4683244   1626.88809336  1614.99889251\n",
            "  1610.89757526  1598.76243859  1581.85580561  1566.47430255\n",
            "  1554.62293072  1552.74394224  1533.95562362  1526.92608459\n",
            "  1525.14852525  1512.04659329  1500.1348618   1492.6129014\n",
            "  1484.70455099  1469.86729045  1465.41640796  1459.35960038\n",
            "  1447.03482185  1436.35019462  1432.91956361  1414.82378289\n",
            "  1401.6493703   1392.09901636  1379.12797982  1361.98733005\n",
            "  1356.4183975   1347.99790193  1341.43802884  1331.90930324\n",
            "  1330.83715421  1321.46327645  1307.90190425  1304.60427283\n",
            "  1290.27999128  1288.75742547  1256.19835348  1254.53418579\n",
            "  1248.09225087  1239.15747116  1233.88911597  1218.9781329\n",
            "  1211.58727496  1205.0175255   1192.50203351  1186.38485892\n",
            "  1178.65696473  1173.43855894  1153.73230738  1149.14915219\n",
            "  1142.26750303  1137.35775142  1131.13563863  1115.29679143\n",
            "  1107.72301407]\n"
          ]
        }
      ],
      "source": [
        "# Matriz 200x300 con valores aleatorios entre 0 y 255\n",
        "A = 255 * np.random.rand(200, 300)\n",
        "# Valor entero k\n",
        "k = 100\n",
        "\n",
        "# Obtener la descomposición SVD truncada en k y los valores singulares\n",
        "A_k, singular_values = truncated_svd_and_singular_values(A, k)\n",
        "\n",
        "# Imprimir resultados\n",
        "print(\"Matriz A^(k):\\n\")\n",
        "print(A_k)\n",
        "print(\"\\nValores singulares σ_1, ..., σ_{k+1}:\\n\")\n",
        "print(singular_values)"
      ]
    },
    {
      "cell_type": "markdown",
      "metadata": {
        "id": "S2kfVU1cpkJj"
      },
      "source": [
        "#### Ejercicio 2. Crea una matriz de la \"imagen en blanco\". ¿Cuál es el rank de esa matriz? Responde la misma pregunta con la matriz corespondiente a una imagen nítida de la bandera de Indonesia y también de la bandera Italiana."
      ]
    },
    {
      "cell_type": "code",
      "source": [
        "import numpy as np\n",
        "# importamos el modulo pyplot, y lo llamamos plt\n",
        "import matplotlib.pyplot as plt\n",
        "from PIL import Image\n",
        "import pandas as pd\n",
        "# comando de Jupyter para que las imagenes se muestren automaticamente\n",
        "%matplotlib inline"
      ],
      "metadata": {
        "id": "4dR0gga_3kuS"
      },
      "execution_count": 47,
      "outputs": []
    },
    {
      "cell_type": "code",
      "execution_count": 45,
      "metadata": {
        "colab": {
          "base_uri": "https://localhost:8080/",
          "height": 431
        },
        "id": "4Zqdd4uXpkJj",
        "outputId": "dcfc8239-1ee2-4938-c071-75753ce91aa2"
      },
      "outputs": [
        {
          "output_type": "stream",
          "name": "stdout",
          "text": [
            "EL rank de la matriz a partir de la imagen: 1\n"
          ]
        },
        {
          "output_type": "display_data",
          "data": {
            "text/plain": [
              "<Figure size 640x480 with 1 Axes>"
            ],
            "image/png": "[encoded data removed]"
          },
          "metadata": {}
        },
        {
          "output_type": "display_data",
          "data": {
            "text/plain": [
              "<Figure size 640x480 with 0 Axes>"
            ]
          },
          "metadata": {}
        }
      ],
      "source": [
        "#configuracion necesaria de pyplot para ver las imagenes en escala de grises\n",
        "plt.rcParams['image.cmap'] = 'gray'\n",
        "\n",
        "#tamaño de las matrices a visualizar\n",
        "size=(200,300)\n",
        "\n",
        "# IMAGEN BLANCA\n",
        "# Una matriz de unos.\n",
        "imagen_blanca = np.ones(size)\n",
        "\n",
        "#visualizamos la matriz\n",
        "#Se ve como una imagen blanca, ya que todos los elementos (pixeles) tienen intensidad 1\n",
        "plt.imshow(imagen_blanca,vmin=0,vmax=1)\n",
        "\n",
        "plt.figure()\n",
        "\n",
        "# Calculando el rank de la matriz de la imagen en blanco\n",
        "rango_imagen_blanca = np.linalg.matrix_rank(imagen_blanca)\n",
        "print(f'EL rank de la matriz a partir de la imagen: {rango_imagen_blanca}')"
      ]
    },
    {
      "cell_type": "code",
      "source": [
        "# ------------------------------ Trabajando con las banderas -------------------------------------------------\n",
        "\n",
        "# la ruta de cada imagen\n",
        "path_indonesia = \"imagenes/Flag_of_Indonesia.png\"\n",
        "path_italia = \"imagenes/Flag_of_Italy.png\"\n",
        "\n",
        "# Cargando las imágenes de as banderas\n",
        "imagen_indonesia = Image.open(path_indonesia)\n",
        "imagen_italia = Image.open(path_italia)\n",
        "\n",
        "# Convertiendo las imágenes a matrices NumPy de tamaño (200 x 300)\n",
        "matriz_indonesia = np.array(imagen_indonesia.resize((300, 200)))\n",
        "matriz_italia = np.array(imagen_italia.resize((300, 200)))\n",
        "\n",
        "# Visualizando la bandera de Indonesia\n",
        "plt.imshow(matriz_indonesia)\n",
        "plt.title('Bandera de Indonesia')\n",
        "plt.axis('off')\n",
        "plt.show()\n",
        "\n",
        "# Calculando el rank de la bandera de Indonesia\n",
        "rango_indonesia = np.linalg.matrix_rank(matriz_indonesia)\n",
        "print(f'EL rank de la matriz a partir de la imagen de Indonesia: {rango_indonesia}')\n",
        "\n",
        "# Visualizando la bandera de Italia\n",
        "plt.imshow(matriz_italia)\n",
        "plt.title('Bandera de Italia')\n",
        "plt.axis('off')\n",
        "plt.show()\n",
        "\n",
        "# Calculando el rank de la bandera de Italia\n",
        "rango_italia = np.linalg.matrix_rank(matriz_italia)\n",
        "print(f'EL rank de la matriz a partir de la imagen de Italia: {rango_italia}')"
      ],
      "metadata": {
        "colab": {
          "base_uri": "https://localhost:8080/",
          "height": 796
        },
        "id": "qBPZaJOt64G3",
        "outputId": "c84a29c2-8980-4026-ede1-c4cbf3231fa1"
      },
      "execution_count": 52,
      "outputs": [
        {
          "output_type": "display_data",
          "data": {
            "text/plain": [
              "<Figure size 640x480 with 1 Axes>"
            ],
            "image/png": "[encoded data removed]"
          },
          "metadata": {}
        },
        {
          "output_type": "stream",
          "name": "stdout",
          "text": [
            "EL rank de la matriz a partir de la imagen de Indonesia: 1\n"
          ]
        },
        {
          "output_type": "display_data",
          "data": {
            "text/plain": [
              "<Figure size 640x480 with 1 Axes>"
            ],
            "image/png": "[encoded data removed]"
          },
          "metadata": {}
        },
        {
          "output_type": "stream",
          "name": "stdout",
          "text": [
            "EL rank de la matriz a partir de la imagen de Italia: 1\n"
          ]
        }
      ]
    },
    {
      "cell_type": "markdown",
      "source": [
        "> El hecho de que todas las imágenes tengan un rank de 1 podría ser un indicativo de que las imágenes son bastante simples y pueden ser representadas con una sola dimensión (un solo vector). El rango de una matriz indica la cantidad de dimensiones linealmente independientes en esa matriz. Si todas las filas (o columnas) de una matriz son múltiplos escalares unas de otras, el rank será 1.\n",
        ">\n",
        ">Las imágenes con las que se trabajó en este ejercicio, se podría decir que son bastante uniformes en intensidad, por lo tanto, una sola dimensión es suficiente para representarlas linealmente.\n",
        ">\n",
        ">Si las imágenes de las banderas de Indonesia e Italia son bastante simples, es normal obtener un rango bajo.\n"
      ],
      "metadata": {
        "id": "vwFjQKX4AYY1"
      }
    },
    {
      "cell_type": "markdown",
      "metadata": {
        "id": "2nWU6ufCpkJk"
      },
      "source": [
        "#### Ejercicio 3. Elija una fotografía de tu interés. Encuentra la mejor aproximación de rango $k$ para $k$ = 2, 5, 10, 15. Conviértelos a imagen otra vez y obsérvalas junto con la imagen original. Puedes probar con otras imágenes y valores de $k$."
      ]
    },
    {
      "cell_type": "code",
      "execution_count": null,
      "metadata": {
        "id": "iRiNTsQDpkJk"
      },
      "outputs": [],
      "source": []
    }
  ],
  "metadata": {
    "kernelspec": {
      "display_name": "Python 3",
      "language": "python",
      "name": "python3"
    },
    "language_info": {
      "codemirror_mode": {
        "name": "ipython",
        "version": 3
      },
      "file_extension": ".py",
      "mimetype": "text/x-python",
      "name": "python",
      "nbconvert_exporter": "python",
      "pygments_lexer": "ipython3",
      "version": "3.11.4"
    },
    "colab": {
      "provenance": []
    }
  },
  "nbformat": 4,
  "nbformat_minor": 0
}