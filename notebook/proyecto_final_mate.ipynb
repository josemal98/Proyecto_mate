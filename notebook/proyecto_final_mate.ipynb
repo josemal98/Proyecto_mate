{
 "cells": [
  {
   "cell_type": "markdown",
   "metadata": {},
   "source": [
    "# Proyecto final 2023"
   ]
  },
  {
   "cell_type": "markdown",
   "metadata": {},
   "source": [
    "# Matemáticas para Ciencia de Datos"
   ]
  },
  {
   "cell_type": "markdown",
   "metadata": {},
   "source": [
    "#### Ejercicio 1. Haz un programa que dada una matriz $A$ y $k$ regrese $A^{(k)}$, $σ_1$, . . . $σ_{k+1}$. Usa la librería https://scikit-learn.org/stable/modules/generated/sklearn.decomposition.TruncatedSVD.html."
   ]
  },
  {
   "cell_type": "code",
   "execution_count": null,
   "metadata": {},
   "outputs": [],
   "source": [
    "# Importar librerías a utilizar\n",
    "import numpy as np\n",
    "from sklearn.decomposition import TruncatedSVD"
   ]
  },
  {
   "cell_type": "markdown",
   "metadata": {},
   "source": [
    "Crear función para obtener descomposición SVD truncada de una matriz, junto con los valores singulares respectivos. "
   ]
  },
  {
   "cell_type": "code",
   "execution_count": 8,
   "metadata": {},
   "outputs": [],
   "source": [
    "# Definir función \"truncated_svd_and_singular_values()\"\n",
    "def truncated_svd_and_singular_values(matrix, k):\n",
    "    \"\"\"Esta función recibe como input una matriz y un número entero k. \n",
    "       Como output regresa la descomposición SVD truncada en k de la\n",
    "       matriz y los primeros k+1 valores singulares\"\"\"\n",
    "\n",
    "    try:\n",
    "        # Descomposición SVD truncada\n",
    "        svd = TruncatedSVD(n_components=k+1)\n",
    "        svd.fit(matrix)\n",
    "\n",
    "        # Obtener la matriz transformada A^(k)\n",
    "        matrix_k = svd.transform(matrix)\n",
    "\n",
    "        # Obtener los valores singulares σ_1, ..., σ_{k+1}\n",
    "        singular_values = svd.singular_values_\n",
    "\n",
    "        # Output matriz transformada y valores singulares\n",
    "        return matrix_k, singular_values\n",
    "\n",
    "    except ValueError:\n",
    "        raise ValueError(\"El valor de k debe ser menor o igual al número de características en la matriz.\")"
   ]
  },
  {
   "cell_type": "markdown",
   "metadata": {},
   "source": [
    "Ejemplo de uso de la función."
   ]
  },
  {
   "cell_type": "code",
   "execution_count": 43,
   "metadata": {},
   "outputs": [
    {
     "name": "stdout",
     "output_type": "stream",
     "text": [
      "Matriz A^(k):\n",
      "\n",
      "[[2235.56440876  123.67840803   54.18994326 ...   84.35003061\n",
      "   118.75002619  -13.37512941]\n",
      " [2382.77029093   87.34015398 -129.63756454 ...   46.02740548\n",
      "   208.80912031   74.10089474]\n",
      " [2189.9435708   132.18843626 -242.4400699  ...   56.93675704\n",
      "   -45.14838871  -43.3000182 ]\n",
      " ...\n",
      " [2241.84056443 -194.91966996  -45.96449422 ...  -24.37500301\n",
      "     2.9239748  -154.65172086]\n",
      " [2224.63297324  -17.42097588  -52.3878498  ...  -63.94811048\n",
      "   -18.924784   -177.96422857]\n",
      " [2102.46233517 -129.41210175   81.70497346 ...  -72.72826688\n",
      "     5.65434975   65.76413999]]\n",
      "\n",
      "Valores singulares σ_1, ..., σ_{k+1}:\n",
      "\n",
      "[31367.22620071  2266.68013312  2257.83888669  2245.0209662\n",
      "  2202.25480395  2184.35738034  2168.48318018  2151.9486531\n",
      "  2135.88758141  2119.03262037  2100.17327604  2062.31606557\n",
      "  2051.30233487  2036.75897492  2003.05508401  1996.5421498\n",
      "  1989.63745493  1967.17638566  1954.1247791   1946.66543149\n",
      "  1922.87005663  1906.20584464  1898.23911725  1883.68594945\n",
      "  1871.22178151  1869.0722476   1855.33372476  1852.93708117\n",
      "  1840.64944173  1832.27310176  1809.64451737  1804.93637323\n",
      "  1797.13734198  1773.2987186   1766.27548372  1754.56642603\n",
      "  1730.16964343  1723.77464612  1720.69261968  1701.82751396\n",
      "  1692.29378872  1682.46468063  1673.23968054  1669.9762045\n",
      "  1644.58980706  1636.92577551  1625.74744084  1609.49256359\n",
      "  1601.47294161  1589.45254584  1574.67445227  1570.22637046\n",
      "  1562.47447244  1550.01597588  1546.51830261  1530.45274378\n",
      "  1523.47064363  1510.82262757  1493.92177661  1486.41186263\n",
      "  1484.03933327  1474.33056144  1466.83090539  1455.95184635\n",
      "  1449.75719934  1429.7881653   1415.28092239  1400.18383292\n",
      "  1394.68109299  1386.23375     1371.13715981  1363.85667375\n",
      "  1357.59320135  1343.39465812  1328.51362136  1325.74440469\n",
      "  1319.7918327   1317.04636317  1306.79191113  1304.91157321\n",
      "  1289.7417298   1285.53239088  1282.67332036  1263.71194043\n",
      "  1259.53827147  1245.29522135  1233.08755383  1226.98666743\n",
      "  1217.12054342  1207.47016087  1201.09571036  1198.35271133\n",
      "  1194.51303374  1178.80126275  1171.22805025  1150.18596028\n",
      "  1148.97439246  1143.35052885  1130.8399229   1115.5976303\n",
      "  1107.77751929]\n"
     ]
    }
   ],
   "source": [
    "# Matriz 200x300 con valores aleatorios entre 0 y 255\n",
    "A = 255 * np.random.rand(200, 300)\n",
    "# Valor entero k\n",
    "k = 100\n",
    "\n",
    "# Obtener la descomposición SVD truncada en k y los valores singulares\n",
    "A_k, singular_values = truncated_svd_and_singular_values(A, k)\n",
    "\n",
    "# Imprimir resultados\n",
    "print(\"Matriz A^(k):\\n\")\n",
    "print(A_k)\n",
    "print(\"\\nValores singulares σ_1, ..., σ_{k+1}:\\n\")\n",
    "print(singular_values)"
   ]
  },
  {
   "cell_type": "markdown",
   "metadata": {},
   "source": [
    "#### Ejercicio 2. Crea una matriz de la \"imagen en blanco\". ¿Cuál es el rank de esa matriz? Responde la misma pregunta con la matriz corespondiente a una imagen nítida de la bandera de Indonesia y también de la bandera Italiana."
   ]
  },
  {
   "cell_type": "code",
   "execution_count": null,
   "metadata": {},
   "outputs": [],
   "source": []
  },
  {
   "cell_type": "markdown",
   "metadata": {},
   "source": [
    "#### Ejercicio 3. Elija una fotografía de tu interés. Encuentra la mejor aproximación de rango $k$ para $k$ = 2, 5, 10, 15. Conviértelos a imagen otra vez y obsérvalas junto con la imagen original. Puedes probar con otras imágenes y valores de $k$."
   ]
  },
  {
   "cell_type": "code",
   "execution_count": null,
   "metadata": {},
   "outputs": [],
   "source": []
  }
 ],
 "metadata": {
  "kernelspec": {
   "display_name": "Python 3",
   "language": "python",
   "name": "python3"
  },
  "language_info": {
   "codemirror_mode": {
    "name": "ipython",
    "version": 3
   },
   "file_extension": ".py",
   "mimetype": "text/x-python",
   "name": "python",
   "nbconvert_exporter": "python",
   "pygments_lexer": "ipython3",
   "version": "3.11.4"
  }
 },
 "nbformat": 4,
 "nbformat_minor": 2
}
